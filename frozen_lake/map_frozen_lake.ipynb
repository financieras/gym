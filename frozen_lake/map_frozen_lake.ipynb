{
  "nbformat": 4,
  "nbformat_minor": 0,
  "metadata": {
    "colab": {
      "provenance": [],
      "authorship_tag": "ABX9TyMROktpKuoe+NQwUVYVtxs3",
      "include_colab_link": true
    },
    "kernelspec": {
      "name": "python3",
      "display_name": "Python 3"
    },
    "language_info": {
      "name": "python"
    }
  },
  "cells": [
    {
      "cell_type": "markdown",
      "metadata": {
        "id": "view-in-github",
        "colab_type": "text"
      },
      "source": [
        "<a href=\"https://colab.research.google.com/github/financieras/gym/blob/main/frozen_lake/map_frozen_lake.ipynb\" target=\"_parent\"><img src=\"https://colab.research.google.com/assets/colab-badge.svg\" alt=\"Open In Colab\"/></a>"
      ]
    },
    {
      "cell_type": "markdown",
      "source": [
        "# Mapas para el juego Frozen Lake\n",
        "Este juego lo resolveremos con aprendizaje automático usando el algoritmo Q-Learning y crearemos la Q-table."
      ],
      "metadata": {
        "id": "Use9WT2SGt-t"
      }
    },
    {
      "cell_type": "markdown",
      "source": [
        "## Determinar si un mapa es válido"
      ],
      "metadata": {
        "id": "BKyFLESSGms2"
      }
    },
    {
      "cell_type": "code",
      "source": [
        "def validar_mapa(mapa):\n",
        "    \"\"\"\n",
        "    Valida un mapa de Frozen Lake según las especificaciones actualizadas.\n",
        "\n",
        "    Args:\n",
        "        mapa: Lista de strings que representan el mapa (nxn con n ≥ 2).\n",
        "              S: Punto inicial, ·: Superficie helada, H: Hoyo, G: Meta.\n",
        "\n",
        "    Returns:\n",
        "        tuple: (bool, str) donde:\n",
        "               - bool: True si el mapa es válido, False si no.\n",
        "               - str: Mensaje descriptivo del resultado o error.\n",
        "    \"\"\"\n",
        "    # Validación básica de tipo y estructura\n",
        "    if not isinstance(mapa, list) or not mapa:\n",
        "        return False, \"El mapa debe ser una lista no vacía\"\n",
        "\n",
        "    n = len(mapa)\n",
        "    if n < 2:\n",
        "        return False, \"El mapa debe tener al menos 2 filas\"\n",
        "\n",
        "    # Verificación de estructura cuadrada (nxn)\n",
        "    if not all(isinstance(fila, str) and len(fila) == n for fila in mapa):\n",
        "        return False, f\"El mapa debe ser cuadrado (nxn). Todas las filas deben ser strings de longitud {n}\"\n",
        "\n",
        "    # Conteo de caracteres especiales y validación\n",
        "    caracteres_validos = {'S', '·', 'H', 'G'}\n",
        "    caracteres_presentes = set()\n",
        "    contador_S = 0\n",
        "    contador_G = 0\n",
        "\n",
        "    for fila in mapa:\n",
        "        for c in fila:\n",
        "            caracteres_presentes.add(c)\n",
        "            if c == 'S':\n",
        "                contador_S += 1\n",
        "            elif c == 'G':\n",
        "                contador_G += 1\n",
        "\n",
        "    # Validación de caracteres\n",
        "    caracteres_invalidos = caracteres_presentes - caracteres_validos\n",
        "    if caracteres_invalidos:\n",
        "        return False, f\"Caracteres inválidos encontrados: {', '.join(sorted(caracteres_invalidos))}\"\n",
        "\n",
        "    # Validación de S y G\n",
        "    if contador_S != 1:\n",
        "        return False, f\"Debe haber exactamente un 'S' (inicio). Encontrados: {contador_S}\"\n",
        "\n",
        "    if contador_G != 1:\n",
        "        return False, f\"Debe haber exactamente un 'G' (meta). Encontrados: {contador_G}\"\n",
        "\n",
        "    return True, f\"Mapa {n}x{n} válido\""
      ],
      "metadata": {
        "id": "lzMBIn2z-IUE"
      },
      "execution_count": 1,
      "outputs": []
    },
    {
      "cell_type": "code",
      "source": [
        "# Mapa válido\n",
        "mapa_valido = [\n",
        "    \"S···\",\n",
        "    \"·H·H\",\n",
        "    \"··H·\",\n",
        "    \"H··G\"\n",
        "]\n",
        "print(validar_mapa(mapa_valido))  # (True, \"Mapa 4x4 válido\")\n",
        "\n",
        "# Mapa con caracteres inválidos\n",
        "mapa_invalido = [\n",
        "    \"S·X·\",\n",
        "    \"·H·H\",\n",
        "    \"··H·\",\n",
        "    \"H··G\"\n",
        "]\n",
        "print(validar_mapa(mapa_invalido))  # (False, \"Caracteres inválidos encontrados: X\")\n",
        "\n",
        "# Caso inválido (fila 2 más corta)\n",
        "mapa2 = [\n",
        "    \"S···\",\n",
        "    \"·H·H\",\n",
        "    \"···\",  # ¡Falta un carácter!\n",
        "    \"H··G\"\n",
        "]\n",
        "\n",
        "print(validar_mapa(mapa2))  # (False, 'El mapa debe ser cuadrado (nxn). Todas las filas deben ser strings de longitud 4')"
      ],
      "metadata": {
        "colab": {
          "base_uri": "https://localhost:8080/"
        },
        "id": "a16nJSOI-Oa1",
        "outputId": "b8f67cc8-1750-4e7b-e5b3-fbd7396293ce"
      },
      "execution_count": 2,
      "outputs": [
        {
          "output_type": "stream",
          "name": "stdout",
          "text": [
            "(True, 'Mapa 4x4 válido')\n",
            "(False, 'Caracteres inválidos encontrados: X')\n",
            "(False, 'El mapa debe ser cuadrado (nxn). Todas las filas deben ser strings de longitud 4')\n"
          ]
        }
      ]
    },
    {
      "cell_type": "markdown",
      "source": [
        "## Calcular cuántos caminos minimos existen y el número de pasos necesarios"
      ],
      "metadata": {
        "id": "1k9GziBVGcZC"
      }
    },
    {
      "cell_type": "code",
      "source": [
        "from collections import deque\n",
        "\n",
        "def contar_caminos_minimos(mapa):\n",
        "    \"\"\"\n",
        "    Encuentra el número de caminos mínimos y su longitud desde S hasta G.\n",
        "\n",
        "    Args:\n",
        "        mapa: Lista de strings que representan el mapa (debe ser válido).\n",
        "\n",
        "    Returns:\n",
        "        tuple: (num_caminos, pasos) donde:\n",
        "               - num_caminos: Número de caminos mínimos (0 si no hay camino)\n",
        "               - pasos: Número de pasos del camino mínimo (-1 si no hay camino)\n",
        "    \"\"\"\n",
        "    # Validación inicial del mapa (omitiendo mensajes para brevedad)\n",
        "    valido, _ = validar_mapa(mapa)\n",
        "    if not valido:\n",
        "        return 0, -1\n",
        "\n",
        "    # Encontrar posiciones de S y G\n",
        "    S_pos = next((i, j) for i, row in enumerate(mapa)\n",
        "                   for j, c in enumerate(row) if c == 'S')\n",
        "    G_pos = next((i, j) for i, row in enumerate(mapa)\n",
        "                   for j, c in enumerate(row) if c == 'G')\n",
        "\n",
        "    # Inicialización\n",
        "    filas, cols = len(mapa), len(mapa[0])\n",
        "    direcciones = [(0, 1), (1, 0), (0, -1), (-1, 0)]\n",
        "    distancia = [[-1] * cols for _ in range(filas)]\n",
        "    contador = [[0] * cols for _ in range(filas)]\n",
        "\n",
        "    # BFS\n",
        "    q = deque([S_pos])\n",
        "    distancia[S_pos[0]][S_pos[1]] = 0\n",
        "    contador[S_pos[0]][S_pos[1]] = 1\n",
        "\n",
        "    while q:\n",
        "        i, j = q.popleft()\n",
        "\n",
        "        for di, dj in direcciones:\n",
        "            ni, nj = i + di, j + dj\n",
        "            if 0 <= ni < filas and 0 <= nj < cols and mapa[ni][nj] != 'H':\n",
        "                if distancia[ni][nj] == -1:  # Primera visita\n",
        "                    distancia[ni][nj] = distancia[i][j] + 1\n",
        "                    contador[ni][nj] = contador[i][j]\n",
        "                    q.append((ni, nj))\n",
        "                elif distancia[ni][nj] == distancia[i][j] + 1:  # Ruta alternativa mínima\n",
        "                    contador[ni][nj] += contador[i][j]\n",
        "\n",
        "    pasos = distancia[G_pos[0]][G_pos[1]]\n",
        "    num_caminos = contador[G_pos[0]][G_pos[1]] if pasos != -1 else 0\n",
        "\n",
        "    return num_caminos, pasos"
      ],
      "metadata": {
        "id": "dH9j8axyGQOk"
      },
      "execution_count": 18,
      "outputs": []
    },
    {
      "cell_type": "code",
      "source": [
        "mapa_4x4 = [\n",
        "    \"S···\",\n",
        "    \"·H·H\",\n",
        "    \"···H\",\n",
        "    \"H··G\"\n",
        "]\n",
        "\n",
        "valido, mensaje = validar_mapa(mapa_4x4)\n",
        "print(f\"¿Mapa válido? {valido}, Mensaje: {mensaje}\")\n",
        "\n",
        "num_caminos, pasos = contar_caminos_minimos(mapa_4x4)\n",
        "print(f\"Caminos mínimos: {num_caminos}, Pasos requeridos: {pasos}\")"
      ],
      "metadata": {
        "colab": {
          "base_uri": "https://localhost:8080/"
        },
        "id": "yva1HC_nDb5P",
        "outputId": "6ed87332-29db-441a-81b1-b73c158552e9"
      },
      "execution_count": 21,
      "outputs": [
        {
          "output_type": "stream",
          "name": "stdout",
          "text": [
            "¿Mapa válido? True, Mensaje: Mapa 4x4 válido\n",
            "Número de caminos mínimos: 3 resuelto en 6 pasos.\n"
          ]
        }
      ]
    },
    {
      "cell_type": "code",
      "source": [
        "mapa = [\n",
        "                \"S·······\",\n",
        "                \"·HHH·HH·\",\n",
        "                \"·H·H····\",\n",
        "                \"·H···H·H\",\n",
        "                \"···H····\",\n",
        "                \"·HH···H·\",\n",
        "                \"·H··H·H·\",\n",
        "                \"·······G\"\n",
        "            ]\n",
        "\n",
        "valido, mensaje = validar_mapa(mapa)\n",
        "print(f\"¿Mapa válido? {valido}, Mensaje: {mensaje}\")\n",
        "\n",
        "num_caminos, pasos = contar_caminos_minimos(mapa)\n",
        "print(f\"Caminos mínimos: {num_caminos}, Pasos requeridos: {pasos}\")"
      ],
      "metadata": {
        "colab": {
          "base_uri": "https://localhost:8080/"
        },
        "id": "wr22ULjBEKUD",
        "outputId": "84080338-a60c-4286-a73f-ee1d6e2fa0e7"
      },
      "execution_count": 23,
      "outputs": [
        {
          "output_type": "stream",
          "name": "stdout",
          "text": [
            "¿Mapa válido? True, Mensaje: Mapa 8x8 válido\n",
            "Caminos mínimos: 5, Pasos requeridos: 14\n"
          ]
        }
      ]
    }
  ]
}