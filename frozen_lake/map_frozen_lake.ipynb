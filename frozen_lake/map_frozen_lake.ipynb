{
  "nbformat": 4,
  "nbformat_minor": 0,
  "metadata": {
    "colab": {
      "provenance": [],
      "authorship_tag": "ABX9TyMfENoovLfnWyyYDN/vI3DO",
      "include_colab_link": true
    },
    "kernelspec": {
      "name": "python3",
      "display_name": "Python 3"
    },
    "language_info": {
      "name": "python"
    }
  },
  "cells": [
    {
      "cell_type": "markdown",
      "metadata": {
        "id": "view-in-github",
        "colab_type": "text"
      },
      "source": [
        "<a href=\"https://colab.research.google.com/github/financieras/gym/blob/main/frozen_lake/map_frozen_lake.ipynb\" target=\"_parent\"><img src=\"https://colab.research.google.com/assets/colab-badge.svg\" alt=\"Open In Colab\"/></a>"
      ]
    },
    {
      "cell_type": "markdown",
      "source": [
        "# Mapas para el juego Frozen Lake\n",
        "Este juego lo resolveremos con aprendizaje automático usando el algoritmo Q-Learning y crearemos la Q-table."
      ],
      "metadata": {
        "id": "Use9WT2SGt-t"
      }
    },
    {
      "cell_type": "markdown",
      "source": [
        "## Determinar si un mapa es válido"
      ],
      "metadata": {
        "id": "BKyFLESSGms2"
      }
    },
    {
      "cell_type": "code",
      "source": [
        "def validar_mapa(mapa):\n",
        "    \"\"\"\n",
        "    Valida un mapa de Frozen Lake según las especificaciones actualizadas.\n",
        "\n",
        "    Args:\n",
        "        mapa: Lista de strings que representan el mapa (nxn con n ≥ 2).\n",
        "              S: Punto inicial, ·: Superficie helada, H: Hoyo, G: Meta.\n",
        "\n",
        "    Returns:\n",
        "        tuple: (bool, str) donde:\n",
        "               - bool: True si el mapa es válido, False si no.\n",
        "               - str: Mensaje descriptivo del resultado o error.\n",
        "    \"\"\"\n",
        "    # Validación básica de tipo y estructura\n",
        "    if not isinstance(mapa, list) or not mapa:\n",
        "        return False, \"El mapa debe ser una lista no vacía\"\n",
        "\n",
        "    n = len(mapa)\n",
        "    if n < 2:\n",
        "        return False, \"El mapa debe tener al menos 2 filas\"\n",
        "\n",
        "    # Verificación de estructura cuadrada (nxn)\n",
        "    if not all(isinstance(fila, str) and len(fila) == n for fila in mapa):\n",
        "        return False, f\"El mapa debe ser cuadrado (nxn). Todas las filas deben ser strings de longitud {n}\"\n",
        "\n",
        "    # Conteo de caracteres especiales y validación\n",
        "    caracteres_validos = {'S', '·', 'H', 'G'}\n",
        "    caracteres_presentes = set()\n",
        "    contador_S = 0\n",
        "    contador_G = 0\n",
        "\n",
        "    for fila in mapa:\n",
        "        for c in fila:\n",
        "            caracteres_presentes.add(c)\n",
        "            if c == 'S':\n",
        "                contador_S += 1\n",
        "            elif c == 'G':\n",
        "                contador_G += 1\n",
        "\n",
        "    # Validación de caracteres\n",
        "    caracteres_invalidos = caracteres_presentes - caracteres_validos\n",
        "    if caracteres_invalidos:\n",
        "        return False, f\"Caracteres inválidos encontrados: {', '.join(sorted(caracteres_invalidos))}\"\n",
        "\n",
        "    # Validación de S y G\n",
        "    if contador_S != 1:\n",
        "        return False, f\"Debe haber exactamente un 'S' (inicio). Encontrados: {contador_S}\"\n",
        "\n",
        "    if contador_G != 1:\n",
        "        return False, f\"Debe haber exactamente un 'G' (meta). Encontrados: {contador_G}\"\n",
        "\n",
        "    return True, f\"Mapa {n}x{n} válido\""
      ],
      "metadata": {
        "id": "lzMBIn2z-IUE"
      },
      "execution_count": 1,
      "outputs": []
    },
    {
      "cell_type": "code",
      "source": [
        "# Mapa válido\n",
        "mapa_valido = [\n",
        "    \"S···\",\n",
        "    \"·H·H\",\n",
        "    \"··H·\",\n",
        "    \"H··G\"\n",
        "]\n",
        "print(validar_mapa(mapa_valido))  # (True, \"Mapa 4x4 válido\")\n",
        "\n",
        "# Mapa con caracteres inválidos\n",
        "mapa_invalido = [\n",
        "    \"S·X·\",\n",
        "    \"·H·H\",\n",
        "    \"··H·\",\n",
        "    \"H··G\"\n",
        "]\n",
        "print(validar_mapa(mapa_invalido))  # (False, \"Caracteres inválidos encontrados: X\")\n",
        "\n",
        "# Caso inválido (fila 2 más corta)\n",
        "mapa2 = [\n",
        "    \"S···\",\n",
        "    \"·H·H\",\n",
        "    \"···\",  # ¡Falta un carácter!\n",
        "    \"H··G\"\n",
        "]\n",
        "\n",
        "print(validar_mapa(mapa2))  # (False, 'El mapa debe ser cuadrado (nxn). Todas las filas deben ser strings de longitud 4')"
      ],
      "metadata": {
        "colab": {
          "base_uri": "https://localhost:8080/"
        },
        "id": "a16nJSOI-Oa1",
        "outputId": "a1c74a27-72b3-44a9-a1f3-c8530a7043b2"
      },
      "execution_count": 2,
      "outputs": [
        {
          "output_type": "stream",
          "name": "stdout",
          "text": [
            "(True, 'Mapa 4x4 válido')\n",
            "(False, 'Caracteres inválidos encontrados: X')\n",
            "(False, 'El mapa debe ser cuadrado (nxn). Todas las filas deben ser strings de longitud 4')\n"
          ]
        }
      ]
    },
    {
      "cell_type": "markdown",
      "source": [
        "## Calcular cuántos caminos minimos existen y el número de pasos necesarios"
      ],
      "metadata": {
        "id": "1k9GziBVGcZC"
      }
    },
    {
      "cell_type": "code",
      "source": [
        "from collections import deque\n",
        "\n",
        "def contar_caminos_minimos(mapa):\n",
        "    \"\"\"\n",
        "    Encuentra el número de caminos mínimos y su longitud desde S hasta G.\n",
        "\n",
        "    Args:\n",
        "        mapa: Lista de strings que representan el mapa (debe ser válido).\n",
        "\n",
        "    Returns:\n",
        "        tuple: (num_caminos, pasos) donde:\n",
        "               - num_caminos: Número de caminos mínimos (0 si no hay camino)\n",
        "               - pasos: Número de pasos del camino mínimo (-1 si no hay camino)\n",
        "    \"\"\"\n",
        "    # Validación inicial del mapa (omitiendo mensajes para brevedad)\n",
        "    valido, _ = validar_mapa(mapa)\n",
        "    if not valido:\n",
        "        return 0, -1\n",
        "\n",
        "    # Encontrar posiciones de S y G\n",
        "    S_pos = next((i, j) for i, row in enumerate(mapa)\n",
        "                   for j, c in enumerate(row) if c == 'S')\n",
        "    G_pos = next((i, j) for i, row in enumerate(mapa)\n",
        "                   for j, c in enumerate(row) if c == 'G')\n",
        "\n",
        "    # Inicialización\n",
        "    filas, cols = len(mapa), len(mapa[0])\n",
        "    direcciones = [(0, 1), (1, 0), (0, -1), (-1, 0)]\n",
        "    distancia = [[-1] * cols for _ in range(filas)]\n",
        "    contador = [[0] * cols for _ in range(filas)]\n",
        "\n",
        "    # BFS\n",
        "    q = deque([S_pos])\n",
        "    distancia[S_pos[0]][S_pos[1]] = 0\n",
        "    contador[S_pos[0]][S_pos[1]] = 1\n",
        "\n",
        "    while q:\n",
        "        i, j = q.popleft()\n",
        "\n",
        "        for di, dj in direcciones:\n",
        "            ni, nj = i + di, j + dj\n",
        "            if 0 <= ni < filas and 0 <= nj < cols and mapa[ni][nj] != 'H':\n",
        "                if distancia[ni][nj] == -1:  # Primera visita\n",
        "                    distancia[ni][nj] = distancia[i][j] + 1\n",
        "                    contador[ni][nj] = contador[i][j]\n",
        "                    q.append((ni, nj))\n",
        "                elif distancia[ni][nj] == distancia[i][j] + 1:  # Ruta alternativa mínima\n",
        "                    contador[ni][nj] += contador[i][j]\n",
        "\n",
        "    pasos = distancia[G_pos[0]][G_pos[1]]\n",
        "    num_caminos = contador[G_pos[0]][G_pos[1]] if pasos != -1 else 0\n",
        "\n",
        "    return num_caminos, pasos"
      ],
      "metadata": {
        "id": "dH9j8axyGQOk"
      },
      "execution_count": 3,
      "outputs": []
    },
    {
      "cell_type": "code",
      "source": [
        "mapa_4x4 = [\n",
        "    \"S···\",\n",
        "    \"·H·H\",\n",
        "    \"···H\",\n",
        "    \"H··G\"\n",
        "]\n",
        "\n",
        "valido, mensaje = validar_mapa(mapa_4x4)\n",
        "print(f\"¿Mapa válido? {valido}, Mensaje: {mensaje}\")\n",
        "\n",
        "num_caminos, pasos = contar_caminos_minimos(mapa_4x4)\n",
        "print(f\"Caminos mínimos: {num_caminos}, Pasos requeridos: {pasos}\")"
      ],
      "metadata": {
        "colab": {
          "base_uri": "https://localhost:8080/"
        },
        "id": "yva1HC_nDb5P",
        "outputId": "608bbc58-0ca5-42e2-e059-796adebf8a8c"
      },
      "execution_count": 4,
      "outputs": [
        {
          "output_type": "stream",
          "name": "stdout",
          "text": [
            "¿Mapa válido? True, Mensaje: Mapa 4x4 válido\n",
            "Caminos mínimos: 3, Pasos requeridos: 6\n"
          ]
        }
      ]
    },
    {
      "cell_type": "code",
      "source": [
        "mapa = [\n",
        "                \"S·······\",\n",
        "                \"·HHH·HH·\",\n",
        "                \"·H·H····\",\n",
        "                \"·H···H·H\",\n",
        "                \"···H····\",\n",
        "                \"·HH···H·\",\n",
        "                \"·H··H·H·\",\n",
        "                \"·······G\"\n",
        "            ]\n",
        "\n",
        "valido, mensaje = validar_mapa(mapa)\n",
        "print(f\"¿Mapa válido? {valido}, Mensaje: {mensaje}\")\n",
        "\n",
        "num_caminos, pasos = contar_caminos_minimos(mapa)\n",
        "print(f\"Caminos mínimos: {num_caminos}, Pasos requeridos: {pasos}\")"
      ],
      "metadata": {
        "colab": {
          "base_uri": "https://localhost:8080/"
        },
        "id": "wr22ULjBEKUD",
        "outputId": "c5c812f2-8257-454a-f0f7-d3199e23b6b5"
      },
      "execution_count": 5,
      "outputs": [
        {
          "output_type": "stream",
          "name": "stdout",
          "text": [
            "¿Mapa válido? True, Mensaje: Mapa 8x8 válido\n",
            "Caminos mínimos: 5, Pasos requeridos: 14\n"
          ]
        }
      ]
    },
    {
      "cell_type": "markdown",
      "source": [
        "## Función generadora de mapas\n",
        "#### Parámetros\n",
        "1. n: Dimensión del mapa (n x n)\n",
        "2. num_caminos_min=1: Número mínimo de caminos mínimos requeridos\n",
        "3. extremos=True: bandera: si True, S en (0,0) y G en (n-1, n-1); si False, posiciones aleatorias\n",
        "4. densidad_hoyos=0.2: Probabilidad de generar un hoyo (0.0 a 0.5)\n",
        "5. max_intentos=100: Intentos máximos para encontrar solución válida. Evita bucles sin fin.\n",
        "\n",
        "#### Características principales\n",
        "\n",
        "1. Memoización inteligente:\n",
        "- Almacena soluciones válidas usando hash de parámetros\n",
        "- Evita recalcular para mismas configuraciones\n",
        "- lru_cache para optimizar acceso\n",
        "2. Generación de caminos mínimos:\n",
        "- Crea siempre al menos 1 camino mínimo garantizado\n",
        "- Camino generado aleatoriamente (no siempre el mismo)\n",
        "- Considera cualquier posición de S y G\n",
        "3. Estrategia de reserva:\n",
        "- Si falla después de max_intentos, genera mapa sin hoyos\n",
        "- Garantiza siempre retornar un mapa válido\n",
        "4. Validación integrada:\n",
        "- Usa las funciones validar_mapa y contar_caminos_minimos\n",
        "- Solo retorna mapas que cumplen los requisitos\n",
        "\n",
        "\n",
        "**Nota**  \n",
        "Los \"Ejemplos de uso\" se añaden en la misma celda del Notebook que la función ```generar_mapa``` para que cada vez que se pida un nuevo mapa se ejecute una nueva semilla de números aleatorios. Si separamos en dos celdas del Notebook la función y la ejecución de los ejemplos, la semilla no cambia y nos da siempre el mismo mapa."
      ],
      "metadata": {
        "id": "okIhL74fM-vN"
      }
    },
    {
      "cell_type": "code",
      "source": [
        "import random\n",
        "from collections import deque\n",
        "import hashlib\n",
        "from functools import lru_cache\n",
        "#import time\n",
        "#random.seed(int(time.time() * 1000) % (2**32))\n",
        "random.seed()\n",
        "\n",
        "# Memoización para almacenar patrones de caminos válidos\n",
        "CAMINOS_MEMO = {}\n",
        "\n",
        "def generar_mapa(n, num_caminos_min=1, extremos=True, densidad_hoyos=0.2, max_intentos=100):\n",
        "    \"\"\"\n",
        "    Genera un mapa válido de Frozen Lake con las características especificadas.\n",
        "\n",
        "    Args:\n",
        "        n: Dimensión del mapa (n x n)\n",
        "        num_caminos_min: Número mínimo de caminos mínimos requeridos\n",
        "        extremos: Si True, S en (0,0) y G en (n-1, n-1). Si False, posiciones aleatorias\n",
        "        densidad_hoyos: Probabilidad de generar un hoyo (0.0 a 0.5)\n",
        "        max_intentos: Intentos máximos para encontrar solución válida\n",
        "\n",
        "    Returns:\n",
        "        Lista de strings representando el mapa\n",
        "    \"\"\"\n",
        "    # Validación de parámetros\n",
        "    if n < 2:\n",
        "        raise ValueError(\"n debe ser al menos 2\")\n",
        "    if num_caminos_min < 1:\n",
        "        raise ValueError(\"num_caminos_min debe ser al menos 1\")\n",
        "    if not (0.0 <= densidad_hoyos <= 0.5):\n",
        "        raise ValueError(\"densidad_hoyos debe estar entre 0.0 y 0.5\")\n",
        "\n",
        "    # Generar clave única para memoización\n",
        "    params_hash = hashlib.md5(f\"{n}-{num_caminos_min}-{extremos}-{densidad_hoyos}\".encode()).hexdigest()\n",
        "\n",
        "    # Verificar solución memoizada\n",
        "    if params_hash in CAMINOS_MEMO:\n",
        "        return CAMINOS_MEMO[params_hash]\n",
        "\n",
        "    # Caracteres del mapa\n",
        "    char_hielo = '·'\n",
        "    char_hoyo = 'H'\n",
        "\n",
        "    for intento in range(max_intentos):\n",
        "        # Crear mapa base lleno de hielo\n",
        "        mapa = [[char_hielo] * n for _ in range(n)]\n",
        "\n",
        "        # Posicionar S y G\n",
        "        if extremos:\n",
        "            S, G = (0, 0), (n-1, n-1)\n",
        "        else:\n",
        "            S = (random.randint(0, n-1), random.randint(0, n-1))\n",
        "            G = S\n",
        "            while G == S:\n",
        "                G = (random.randint(0, n-1), random.randint(0, n-1))\n",
        "\n",
        "        mapa[S[0]][S[1]] = 'S'\n",
        "        mapa[G[0]][G[1]] = 'G'\n",
        "\n",
        "        # Generar camino mínimo garantizado\n",
        "        camino = generar_camino_minimo(S, G, n)\n",
        "\n",
        "        # Marcar celdas del camino como seguras\n",
        "        for i, j in camino:\n",
        "            if (i, j) not in (S, G):\n",
        "                mapa[i][j] = char_hielo\n",
        "\n",
        "        # Rellenar el resto del mapa\n",
        "        for i in range(n):\n",
        "            for j in range(n):\n",
        "                if mapa[i][j] == char_hielo and (i, j) not in camino:\n",
        "                    if random.random() < densidad_hoyos:\n",
        "                        mapa[i][j] = char_hoyo\n",
        "\n",
        "        # Convertir a strings\n",
        "        mapa_str = [''.join(fila) for fila in mapa]\n",
        "\n",
        "        # Validar y contar caminos\n",
        "        if not validar_mapa(mapa_str)[0]:\n",
        "            continue\n",
        "\n",
        "        num_caminos, _ = contar_caminos_minimos(mapa_str)\n",
        "\n",
        "        if num_caminos >= num_caminos_min:\n",
        "            # Almacenar en memo antes de retornar\n",
        "            CAMINOS_MEMO[params_hash] = mapa_str\n",
        "            return mapa_str\n",
        "\n",
        "    # Intento de reserva si no se encontró solución\n",
        "    return generar_mapa_reserva(n, extremos, num_caminos_min)\n",
        "\n",
        "def generar_camino_minimo(S, G, n):\n",
        "    \"\"\"\n",
        "    Genera un camino mínimo aleatorio entre S y G\n",
        "    \"\"\"\n",
        "    # Calcular diferencias\n",
        "    di = G[0] - S[0]\n",
        "    dj = G[1] - S[1]\n",
        "\n",
        "    # Generar secuencia de movimientos\n",
        "    movimientos = []\n",
        "    if di > 0: movimientos.extend(['abajo'] * di)\n",
        "    else: movimientos.extend(['arriba'] * abs(di))\n",
        "    if dj > 0: movimientos.extend(['derecha'] * dj)\n",
        "    else: movimientos.extend(['izquierda'] * abs(dj))\n",
        "\n",
        "    random.shuffle(movimientos)\n",
        "\n",
        "    # Reconstruir camino\n",
        "    camino = [S]\n",
        "    i, j = S\n",
        "\n",
        "    for mov in movimientos:\n",
        "        if mov == 'arriba': i -= 1\n",
        "        elif mov == 'abajo': i += 1\n",
        "        elif mov == 'izquierda': j -= 1\n",
        "        elif mov == 'derecha': j += 1\n",
        "        camino.append((i, j))\n",
        "\n",
        "    return camino\n",
        "\n",
        "def generar_mapa_reserva(n, extremos, min_caminos):\n",
        "    \"\"\"Genera un mapa de reserva cuando falla la creación principal\"\"\"\n",
        "    # Mapa completamente libre de hoyos\n",
        "    mapa = [['·'] * n for _ in range(n)]\n",
        "\n",
        "    if extremos:\n",
        "        mapa[0][0] = 'S'\n",
        "        mapa[n-1][n-1] = 'G'\n",
        "    else:\n",
        "        # Posiciones aleatorias no solapadas\n",
        "        S = (random.randint(0, n-1), random.randint(0, n-1))\n",
        "        G = S\n",
        "        while G == S:\n",
        "            G = (random.randint(0, n-1), random.randint(0, n-1))\n",
        "        mapa[S[0]][S[1]] = 'S'\n",
        "        mapa[G[0]][G[1]] = 'G'\n",
        "\n",
        "    # Convertir a strings\n",
        "    mapa_str = [''.join(fila) for fila in mapa]\n",
        "\n",
        "    # Añadir a memo para futuras solicitudes iguales\n",
        "    params_hash = hashlib.md5(f\"{n}-{min_caminos}-{extremos}-0.0\".encode()).hexdigest()\n",
        "    CAMINOS_MEMO[params_hash] = mapa_str\n",
        "\n",
        "    return mapa_str\n",
        "\n",
        "\n",
        "\n",
        "###########################################\n",
        "###########   EJEMPLOS DE USO   ###########\n",
        "###########################################\n",
        "\n",
        "\n",
        "# Generar mapa 4x4 con 2 caminos mínimos\n",
        "mapa = generar_mapa(n=4, num_caminos_min=2, densidad_hoyos=0.5)\n",
        "\n",
        "for fila in mapa:\n",
        "    print(fila)\n",
        "\n",
        "# Generar mapa 8x8 con S/G aleatorios\n",
        "mapa = generar_mapa(n=8, num_caminos_min=3, extremos=False, densidad_hoyos=0.4)\n",
        "\n",
        "print()\n",
        "for fila in mapa:\n",
        "    print(fila)\n",
        "\n",
        "print()\n",
        "num_caminos, pasos = contar_caminos_minimos(mapa)\n",
        "print(f\"Caminos mínimos: {num_caminos}, Pasos requeridos: {pasos}\")"
      ],
      "metadata": {
        "colab": {
          "base_uri": "https://localhost:8080/"
        },
        "id": "HftHYl4lM8dV",
        "outputId": "bdd5f6ce-2ed1-4b07-b83f-aa933a5292ca"
      },
      "execution_count": 34,
      "outputs": [
        {
          "output_type": "stream",
          "name": "stdout",
          "text": [
            "S···\n",
            "H·HH\n",
            "H··H\n",
            "H··G\n",
            "\n",
            "·GH·H·H·\n",
            "··H·····\n",
            "··H···HH\n",
            "····H··H\n",
            "H·······\n",
            "·····HHH\n",
            "··H·HHHH\n",
            "S·H··H·H\n",
            "\n",
            "Caminos mínimos: 3, Pasos requeridos: 8\n"
          ]
        }
      ]
    }
  ]
}